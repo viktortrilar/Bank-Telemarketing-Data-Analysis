{
 "cells": [
  {
   "cell_type": "markdown",
   "id": "934f9fba",
   "metadata": {},
   "source": [
    "## Project Title: Bank Marketing Classification Project"
   ]
  },
  {
   "cell_type": "markdown",
   "id": "d4d95d69",
   "metadata": {},
   "source": [
    "The objective of this teamwork is to implement a step-by-step classification analysis using Python's machine learning, data analysis, manipulation, and visualization libraries such as Scikit-Learn, Pandas, NumPy, and Matplotlib.\n",
    "\n",
    "The entire project has been divided into three steps, which include data preprocessing and visualization, training the ML model, and model tuning and validation. The project must be completed by its deadline and submitted separately by each member of the groups to the corresponding assignment on our Itslearning platform.\n",
    "\n",
    "The team size is 3-5 members.\n",
    "\n",
    "The evaluation of the teamwork will occur by presenting the analysis and results in the presence of the instructor. Please use the provided Jupyter Notebook to document the aims of your project, describe the dataset, document your data analysis process, and evaluate the results. Make the analysis self-descriptive by adding Markdown comments and using descriptive variable names.\n",
    "\n",
    "The efforts of individual team members will also be evaluated in the process.\n",
    "\n"
   ]
  },
  {
   "cell_type": "markdown",
   "id": "9e2a6112",
   "metadata": {},
   "source": [
    "### **Project Description:**      \n",
    "\n",
    "In this machine learning project, students will tackle a classification task that has real-world applications in marketing and financial institutions. The project focuses on predicting whether a client will subscribe to a term deposit in a bank, based on a set of features obtained through marketing campaigns. This project offers a hands-on opportunity to apply various data preprocessing techniques, build and evaluate classification models, and make informed decisions based on the results.\n",
    "\n",
    "### **Project Goal:**\n",
    "\n",
    "The primary goal of this project is to develop an accurate classification model that can assist the bank's marketing team in identifying potential clients who are more likely to subscribe to term deposits. By achieving this goal, the bank can optimize its marketing efforts, reduce costs, and improve the overall efficiency of its campaigns.\n",
    "\n",
    "### **Potential Real-World Applications:**\n",
    "\n",
    "Understanding the outcome of this classification task has several practical applications:\n",
    "\n",
    "**1. Marketing Strategy Optimization:** The bank can use the predictive model to prioritize potential clients who are more likely to subscribe. This allows them to tailor marketing strategies and allocate resources more effectively, leading to higher conversion rates and reduced marketing expenses.\n",
    "\n",
    "**2. Resource Allocation:** The model's predictions can help the bank allocate resources, such as marketing personnel and budget, to regions or customer segments that are more likely to yield positive results.\n",
    "\n",
    "**3. Customer Relationship Management:** By identifying potential subscribers, the bank can personalize communication and services to meet the specific needs and preferences of clients, enhancing customer satisfaction and loyalty.\n",
    "\n",
    "**4. Risk Assessment:** The model can assist in assessing the risk associated with marketing campaigns. By identifying clients less likely to subscribe, the bank can avoid aggressive marketing approaches that could lead to negative customer experiences.\n",
    "\n",
    "### **Project Significance:**\n",
    "\n",
    "This project mirrors real-world challenges faced by marketing teams in financial institutions. By successfully completing this project, students will not only gain technical skills in machine learning but also learn how to apply their knowledge to solve practical business problems. They will understand the importance of data-driven decision-making and how classification models can have a significant impact on marketing and resource allocation strategies.\n",
    "\n",
    "### **Project Outcome:**\n",
    "\n",
    "At the end of this project, students will have developed and evaluated a classification model capable of predicting term deposit subscriptions. They will be able to justify their model selection and discuss its potential applications in marketing and financial institutions.\n",
    "\n",
    "Through this project, students will develop critical skills that are highly relevant in the data science and machine learning industry, as well as a deep understanding of the broader implications of their work.\n"
   ]
  },
  {
   "cell_type": "markdown",
   "id": "fea9d8a3",
   "metadata": {},
   "source": [
    "### **Deadlines of submissions:**\n",
    "\n",
    "Thursday 24 April 2025 at 09.00\n",
    "\n"
   ]
  },
  {
   "cell_type": "markdown",
   "id": "08208eb3",
   "metadata": {},
   "source": [
    "### Project Submission and Presentation:\n",
    "\n",
    "Please book a time for an evaluation event on Friday, April 25, 2025, as soon as the time slots are published. Note: The 15-minute time slots will be made available later on Itslearning. The groups will present their work during this evaluation event.\n",
    "\n"
   ]
  },
  {
   "cell_type": "raw",
   "id": "245d548b",
   "metadata": {},
   "source": [
    "\n",
    "### **To pass this work, you must:**\n",
    "1. Participate in using Python and some of its data analysis libraries. \n",
    "2. Be active during the project. \n",
    "3. Achieve a minimum of 0.5 grade units from the tasks marked with ** in each step. This equates to earning at least 1.5 units from the ** marked tasks across all steps.\n",
    "\n",
    "### Project Evaluation\n",
    "In Itslearning and this notebook, it is graded from 0 to 29 points, considering both the teacher's assessment and the peer assessment provided by the rest of the project team. "
   ]
  },
  {
   "cell_type": "markdown",
   "id": "90447680",
   "metadata": {},
   "source": [
    "#### Note:  Please do not change the lines related to the grades in the code cells."
   ]
  },
  {
   "cell_type": "code",
   "execution_count": 2,
   "id": "19368a86",
   "metadata": {},
   "outputs": [],
   "source": [
    "## Enter your group name and your full names ##\n",
    "group_name = ''\n",
    "members = ''\n",
    "grade = 0"
   ]
  },
  {
   "cell_type": "markdown",
   "id": "cf3dacc0",
   "metadata": {},
   "source": [
    "### **Step 1: Data Visualization and Preprocessing** (8 points)\n",
    "\n",
    "**Data Loading**: ** Start by loading the Bank Marketing Dataset (UCI) into your preferred data analysis environment (e.g., Python with libraries like Pandas and Matplotlib). (1 point)\n",
    "\n",
    "**Data Exploration:** Perform initial exploratory data analysis (EDA) to understand the dataset's structure, summary statistics, and data types. (1 point)\n",
    "\n",
    "**Data Splitting**: ** Split the preprocessed data into training and testing sets (e.g., 80% for training and 20% for testing). (1 point)\n",
    "\n",
    "**Handling Missing Values:** Identify and handle missing values appropriately (e.g., impute missing values or drop rows/columns with missing data). (1 point)\n",
    "\n",
    "**Encoding Categorical Features:** Convert categorical variables into numerical format using techniques like one-hot encoding or label encoding. (1 point)\n",
    "\n",
    "**Data Scaling:** Normalize/standardize numerical features to ensure they have the same scale. (1 point)\n",
    "\n",
    "**Data Visualization:** Create visualizations (e.g., histograms, box plots, and correlation matrices) to gain insights into the data distribution and relationships between features. (2 points)"
   ]
  },
  {
   "cell_type": "code",
   "execution_count": 3,
   "id": "5587e8b3",
   "metadata": {},
   "outputs": [],
   "source": [
    "# Import required libraries \n",
    "import pandas as pd"
   ]
  },
  {
   "cell_type": "code",
   "execution_count": 4,
   "id": "0d04f89d",
   "metadata": {},
   "outputs": [
    {
     "name": "stdout",
     "output_type": "stream",
     "text": [
      "  age;\"job\";\"marital\";\"education\";\"default\";\"housing\";\"loan\";\"contact\";\"month\";\"day_of_week\";\"duration\";\"campaign\";\"pdays\";\"previous\";\"poutcome\";\"emp.var.rate\";\"cons.price.idx\";\"cons.conf.idx\";\"euribor3m\";\"nr.employed\";\"y\"\n",
      "0  56;\"housemaid\";\"married\";\"basic.4y\";\"no\";\"no\";...                                                                                                                                                                          \n",
      "1  57;\"services\";\"married\";\"high.school\";\"unknown...                                                                                                                                                                          \n",
      "2  37;\"services\";\"married\";\"high.school\";\"no\";\"ye...                                                                                                                                                                          \n",
      "3  40;\"admin.\";\"married\";\"basic.6y\";\"no\";\"no\";\"no...                                                                                                                                                                          \n",
      "4  56;\"services\";\"married\";\"high.school\";\"no\";\"no...                                                                                                                                                                          \n"
     ]
    }
   ],
   "source": [
    "# Load the dataset\n",
    "data = pd.read_csv('data/bank-additional-full.csv')\n",
    "\n",
    "print(data.head())\n"
   ]
  },
  {
   "cell_type": "code",
   "execution_count": 5,
   "id": "170407a7",
   "metadata": {},
   "outputs": [],
   "source": [
    "# Explore the data:\n",
    "# 1. Display the first few rows\n",
    "# 2. Get data type information\n",
    "# 3. Get summary statistics"
   ]
  },
  {
   "cell_type": "code",
   "execution_count": 6,
   "id": "d82fba9a",
   "metadata": {},
   "outputs": [],
   "source": [
    "# Split data into training and testing sets\n"
   ]
  },
  {
   "cell_type": "code",
   "execution_count": 7,
   "id": "dc822436",
   "metadata": {},
   "outputs": [],
   "source": [
    "# Handle missing values (e.g., replace missing values with the mean of the column)\n"
   ]
  },
  {
   "cell_type": "code",
   "execution_count": 8,
   "id": "9acb264b",
   "metadata": {},
   "outputs": [],
   "source": [
    "# Encoding categorical features (e.g., one-hot encoding)\n"
   ]
  },
  {
   "cell_type": "code",
   "execution_count": 9,
   "id": "829d542f",
   "metadata": {},
   "outputs": [],
   "source": [
    "# Data Scaling (normalize numerical features)\n"
   ]
  },
  {
   "cell_type": "code",
   "execution_count": 10,
   "id": "43afb1cf",
   "metadata": {},
   "outputs": [],
   "source": [
    "# Data Visualization (e.g., histograms, box plots, and correlation matrices)\n"
   ]
  },
  {
   "cell_type": "code",
   "execution_count": 11,
   "id": "e332fdea",
   "metadata": {},
   "outputs": [],
   "source": [
    "#points += 8"
   ]
  },
  {
   "cell_type": "markdown",
   "id": "77de05e5",
   "metadata": {},
   "source": [
    "### **Step 2: Training Three Classification Models** (8 points)\n",
    "\n",
    "\n",
    "**Model Selection:** Choose three classification algorithms: Logistic Regression, Decision Tree, and K-nearest neighborhood (KNN). (0.5 grade units)\n",
    "\n",
    "**Model Training:** ** Train each of the selected models on the training dataset. (4 points)\n",
    "\n",
    "**Model Evaluation:** Evaluate the performance of each model on the testing dataset using appropriate evaluation metrics (e.g., accuracy, precision, recall, F1-score, ROC-AUC). (4 points)"
   ]
  },
  {
   "cell_type": "code",
   "execution_count": 12,
   "id": "bbca4a58",
   "metadata": {},
   "outputs": [],
   "source": [
    "# Step 2: Training Three Classification Models\n"
   ]
  },
  {
   "cell_type": "code",
   "execution_count": 13,
   "id": "64feeb10",
   "metadata": {},
   "outputs": [],
   "source": [
    "#points += 8"
   ]
  },
  {
   "cell_type": "markdown",
   "id": "ade46085",
   "metadata": {},
   "source": [
    "### **Step 3: Model Tuning and Validation (Including ROC Curve Analysis and Model Selection Rationale)** (8 points)\n",
    "\n",
    "\n",
    "**Hyperparameter Tuning**: ** Perform hyperparameter tuning for each model to optimize their performance. You can use techniques like grid search or random search. (1 point)\n",
    "\n",
    "**Cross-Validation:** Implement k-fold cross-validation to ensure that the models generalize well to new data. (1 point)\n",
    "\n",
    "**ROC Curve Analysis:** For each model, calculate the ROC curve and the corresponding area under the ROC curve (AUC-ROC) as a performance metric. Plot the ROC curves for visual comparison. (1 point)\n",
    "\n",
    "**Threshold Selection:** Determine the optimal threshold for classification by considering the ROC curve and choosing the point that balances sensitivity and specificity based on the problem's context (1 point) \n",
    "\n",
    "**Final Model Selection:** Select the best-performing model based on the AUC-ROC, cross-validation results, and other relevant evaluation metrics (e.g., accuracy, precision, recall, F1-score). (1 point)\n",
    "\n",
    "**Model Testing:** ** Evaluate the selected model on a separate validation dataset (if available) or the testing dataset from Step 1. (1 point)\n",
    "\n",
    "**Rationale for Model Selection:** In this section, provide a written explanation for why you chose the final model for testing. Discuss the key factors that influenced your decision, such as the AUC-ROC performance, cross-validation results, and any specific characteristics of the problem. Explain how the selected model aligns with the goals of the project and its potential practical applications. This step encourages critical thinking and demonstrates your understanding of the machine learning workflow. (2 points)"
   ]
  },
  {
   "cell_type": "code",
   "execution_count": 14,
   "id": "d505580e",
   "metadata": {},
   "outputs": [],
   "source": [
    "# Model Tuning and Validation\n"
   ]
  },
  {
   "cell_type": "code",
   "execution_count": 15,
   "id": "1ff232c5",
   "metadata": {},
   "outputs": [],
   "source": [
    "# Perform ROC curve analysis and calculate AUC-ROC for each model\n"
   ]
  },
  {
   "cell_type": "code",
   "execution_count": 16,
   "id": "aacda6c3",
   "metadata": {},
   "outputs": [],
   "source": [
    "# Visualize ROC curves\n"
   ]
  },
  {
   "cell_type": "code",
   "execution_count": 17,
   "id": "fc0cafc7",
   "metadata": {},
   "outputs": [],
   "source": [
    "# Threshold Selection (You can manually select a threshold based on ROC analysis)\n"
   ]
  },
  {
   "cell_type": "code",
   "execution_count": 18,
   "id": "7d8c9e38",
   "metadata": {},
   "outputs": [],
   "source": [
    "# Final Model Selection (Select the best-performing model based on AUC-ROC)\n",
    "\n"
   ]
  },
  {
   "cell_type": "code",
   "execution_count": 19,
   "id": "0f960bbf",
   "metadata": {},
   "outputs": [],
   "source": [
    "# Model Testing (Evaluate the selected model on the testing dataset)\n"
   ]
  },
  {
   "cell_type": "code",
   "execution_count": 20,
   "id": "7f4fa80e",
   "metadata": {},
   "outputs": [],
   "source": [
    "# Rationale for Model Selection: \n",
    "# In this section, provide a written explanation for why you chose the final model for testing. Discuss the key factors that influenced your decision, such as the AUC-ROC performance, cross-validation results, and any specific characteristics of the problem. Explain how the selected model aligns with the goals of the project and its potential practical applications. This step encourages critical thinking and demonstrates your understanding of the machine learning workflow."
   ]
  },
  {
   "cell_type": "code",
   "execution_count": 21,
   "id": "8a19b0c2",
   "metadata": {},
   "outputs": [],
   "source": [
    "#grade += 8"
   ]
  },
  {
   "cell_type": "markdown",
   "id": "4846c896",
   "metadata": {},
   "source": [
    "### Additional Challenges (Optional):\n",
    "\n",
    "To make the project more challenging, you can introduce the following tasks and collect 5 extra points for the project:\n",
    "\n",
    "1. Implement an ensemble method (e.g., Neural Network or Random Forest) and compare its performance with the individual models.\n",
    "\n",
    "2. Deal with class imbalance in the target variable.\n",
    "\n",
    "3. Explore feature engineering to create new features that might improve model performance."
   ]
  },
  {
   "cell_type": "code",
   "execution_count": 22,
   "id": "04030a9d",
   "metadata": {},
   "outputs": [],
   "source": [
    "#grade += 5"
   ]
  },
  {
   "cell_type": "markdown",
   "id": "497f2800",
   "metadata": {},
   "source": [
    "### Good Luck!"
   ]
  },
  {
   "cell_type": "markdown",
   "id": "2571e77f",
   "metadata": {},
   "source": [
    "## Peer evaluation (5 points)\n",
    "Each team member can gain max 5 points based on peer review\n",
    "- Peer review is done separately in ITS"
   ]
  },
  {
   "cell_type": "code",
   "execution_count": null,
   "id": "6d44be1d",
   "metadata": {},
   "outputs": [],
   "source": []
  }
 ],
 "metadata": {
  "kernelspec": {
   "display_name": "base",
   "language": "python",
   "name": "python3"
  },
  "language_info": {
   "codemirror_mode": {
    "name": "ipython",
    "version": 3
   },
   "file_extension": ".py",
   "mimetype": "text/x-python",
   "name": "python",
   "nbconvert_exporter": "python",
   "pygments_lexer": "ipython3",
   "version": "3.12.7"
  }
 },
 "nbformat": 4,
 "nbformat_minor": 5
}
