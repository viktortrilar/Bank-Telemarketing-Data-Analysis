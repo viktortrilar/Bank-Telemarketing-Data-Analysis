{
 "cells": [
  {
   "cell_type": "markdown",
   "id": "934f9fba",
   "metadata": {},
   "source": [
    "## Project Title: Bank Marketing Classification Project"
   ]
  },
  {
   "cell_type": "markdown",
   "id": "d4d95d69",
   "metadata": {},
   "source": [
    "The objective of this teamwork is to implement a step-by-step classification analysis using Python's machine learning, data analysis, manipulation, and visualization libraries such as Scikit-Learn, Pandas, NumPy, and Matplotlib.\n",
    "\n",
    "The entire project has been divided into three steps, which include data preprocessing and visualization, training the ML model, and model tuning and validation. The project must be completed by its deadline and submitted separately by each member of the groups to the corresponding assignment on our Itslearning platform.\n",
    "\n",
    "The team size is 3-5 members.\n",
    "\n",
    "The evaluation of the teamwork will occur by presenting the analysis and results in the presence of the instructor. Please use the provided Jupyter Notebook to document the aims of your project, describe the dataset, document your data analysis process, and evaluate the results. Make the analysis self-descriptive by adding Markdown comments and using descriptive variable names.\n",
    "\n",
    "The efforts of individual team members will also be evaluated in the process.\n",
    "\n"
   ]
  },
  {
   "cell_type": "markdown",
   "id": "9e2a6112",
   "metadata": {},
   "source": [
    "### **Project Description:**      \n",
    "\n",
    "In this machine learning project, students will tackle a classification task that has real-world applications in marketing and financial institutions. The project focuses on predicting whether a client will subscribe to a term deposit in a bank, based on a set of features obtained through marketing campaigns. This project offers a hands-on opportunity to apply various data preprocessing techniques, build and evaluate classification models, and make informed decisions based on the results.\n",
    "\n",
    "### **Project Goal:**\n",
    "\n",
    "The primary goal of this project is to develop an accurate classification model that can assist the bank's marketing team in identifying potential clients who are more likely to subscribe to term deposits. By achieving this goal, the bank can optimize its marketing efforts, reduce costs, and improve the overall efficiency of its campaigns.\n",
    "\n",
    "### **Potential Real-World Applications:**\n",
    "\n",
    "Understanding the outcome of this classification task has several practical applications:\n",
    "\n",
    "**1. Marketing Strategy Optimization:** The bank can use the predictive model to prioritize potential clients who are more likely to subscribe. This allows them to tailor marketing strategies and allocate resources more effectively, leading to higher conversion rates and reduced marketing expenses.\n",
    "\n",
    "**2. Resource Allocation:** The model's predictions can help the bank allocate resources, such as marketing personnel and budget, to regions or customer segments that are more likely to yield positive results.\n",
    "\n",
    "**3. Customer Relationship Management:** By identifying potential subscribers, the bank can personalize communication and services to meet the specific needs and preferences of clients, enhancing customer satisfaction and loyalty.\n",
    "\n",
    "**4. Risk Assessment:** The model can assist in assessing the risk associated with marketing campaigns. By identifying clients less likely to subscribe, the bank can avoid aggressive marketing approaches that could lead to negative customer experiences.\n",
    "\n",
    "### **Project Significance:**\n",
    "\n",
    "This project mirrors real-world challenges faced by marketing teams in financial institutions. By successfully completing this project, students will not only gain technical skills in machine learning but also learn how to apply their knowledge to solve practical business problems. They will understand the importance of data-driven decision-making and how classification models can have a significant impact on marketing and resource allocation strategies.\n",
    "\n",
    "### **Project Outcome:**\n",
    "\n",
    "At the end of this project, students will have developed and evaluated a classification model capable of predicting term deposit subscriptions. They will be able to justify their model selection and discuss its potential applications in marketing and financial institutions.\n",
    "\n",
    "Through this project, students will develop critical skills that are highly relevant in the data science and machine learning industry, as well as a deep understanding of the broader implications of their work.\n"
   ]
  },
  {
   "cell_type": "markdown",
   "id": "fea9d8a3",
   "metadata": {},
   "source": [
    "### **Deadlines of submissions:**\n",
    "\n",
    "Thursday 24 April 2025 at 09.00\n",
    "\n"
   ]
  },
  {
   "cell_type": "markdown",
   "id": "08208eb3",
   "metadata": {},
   "source": [
    "### Project Submission and Presentation:\n",
    "\n",
    "Please book a time for an evaluation event on Friday, April 25, 2025, as soon as the time slots are published. Note: The 15-minute time slots will be made available later on Itslearning. The groups will present their work during this evaluation event.\n",
    "\n"
   ]
  },
  {
   "cell_type": "raw",
   "id": "245d548b",
   "metadata": {},
   "source": [
    "\n",
    "### **To pass this work, you must:**\n",
    "1. Participate in using Python and some of its data analysis libraries. \n",
    "2. Be active during the project. \n",
    "3. Achieve a minimum of 0.5 grade units from the tasks marked with ** in each step. This equates to earning at least 1.5 units from the ** marked tasks across all steps.\n",
    "\n",
    "### Project Evaluation\n",
    "In Itslearning and this notebook, it is graded from 0 to 29 points, considering both the teacher's assessment and the peer assessment provided by the rest of the project team. "
   ]
  },
  {
   "cell_type": "markdown",
   "id": "90447680",
   "metadata": {},
   "source": [
    "#### Note:  Please do not change the lines related to the grades in the code cells."
   ]
  },
  {
   "cell_type": "code",
   "execution_count": 54,
   "id": "19368a86",
   "metadata": {},
   "outputs": [],
   "source": [
    "## Enter your group name and your full names ##\n",
    "group_name = ''\n",
    "members = ''\n",
    "grade = 0"
   ]
  },
  {
   "cell_type": "markdown",
   "id": "cf3dacc0",
   "metadata": {},
   "source": [
    "### **Step 1: Data Visualization and Preprocessing** (8 points)\n",
    "\n",
    "**Data Loading**: ** Start by loading the Bank Marketing Dataset (UCI) into your preferred data analysis environment (e.g., Python with libraries like Pandas and Matplotlib). (1 point)\n",
    "\n",
    "**Data Exploration:** Perform initial exploratory data analysis (EDA) to understand the dataset's structure, summary statistics, and data types. (1 point)\n",
    "\n",
    "**Data Splitting**: ** Split the preprocessed data into training and testing sets (e.g., 80% for training and 20% for testing). (1 point)\n",
    "\n",
    "**Handling Missing Values:** Identify and handle missing values appropriately (e.g., impute missing values or drop rows/columns with missing data). (1 point)\n",
    "\n",
    "**Encoding Categorical Features:** Convert categorical variables into numerical format using techniques like one-hot encoding or label encoding. (1 point)\n",
    "\n",
    "**Data Scaling:** Normalize/standardize numerical features to ensure they have the same scale. (1 point)\n",
    "\n",
    "**Data Visualization:** Create visualizations (e.g., histograms, box plots, and correlation matrices) to gain insights into the data distribution and relationships between features. (2 points)"
   ]
  },
  {
   "cell_type": "code",
   "execution_count": 55,
   "id": "5587e8b3",
   "metadata": {},
   "outputs": [],
   "source": [
    "# Import required libraries \n",
    "import pandas as pd\n",
    "import numpy as np\n",
    "import matplotlib.pyplot as plt\n",
    "from sklearn.model_selection import train_test_split\n",
    "from sklearn.preprocessing import StandardScaler"
   ]
  },
  {
   "cell_type": "code",
   "execution_count": 56,
   "id": "0d04f89d",
   "metadata": {},
   "outputs": [],
   "source": [
    "# Load the dataset\n",
    "data_bank = pd.read_csv('data/bank-additional-full.csv', sep=';')\n",
    "\n",
    "\n"
   ]
  },
  {
   "cell_type": "code",
   "execution_count": 57,
   "id": "170407a7",
   "metadata": {},
   "outputs": [
    {
     "name": "stdout",
     "output_type": "stream",
     "text": [
      "   age        job  marital    education  default housing loan    contact  \\\n",
      "0   56  housemaid  married     basic.4y       no      no   no  telephone   \n",
      "1   57   services  married  high.school  unknown      no   no  telephone   \n",
      "2   37   services  married  high.school       no     yes   no  telephone   \n",
      "3   40     admin.  married     basic.6y       no      no   no  telephone   \n",
      "4   56   services  married  high.school       no      no  yes  telephone   \n",
      "\n",
      "  month day_of_week  ...  campaign  pdays  previous     poutcome emp.var.rate  \\\n",
      "0   may         mon  ...         1    999         0  nonexistent          1.1   \n",
      "1   may         mon  ...         1    999         0  nonexistent          1.1   \n",
      "2   may         mon  ...         1    999         0  nonexistent          1.1   \n",
      "3   may         mon  ...         1    999         0  nonexistent          1.1   \n",
      "4   may         mon  ...         1    999         0  nonexistent          1.1   \n",
      "\n",
      "   cons.price.idx  cons.conf.idx  euribor3m  nr.employed   y  \n",
      "0          93.994          -36.4      4.857       5191.0  no  \n",
      "1          93.994          -36.4      4.857       5191.0  no  \n",
      "2          93.994          -36.4      4.857       5191.0  no  \n",
      "3          93.994          -36.4      4.857       5191.0  no  \n",
      "4          93.994          -36.4      4.857       5191.0  no  \n",
      "\n",
      "[5 rows x 21 columns]\n"
     ]
    }
   ],
   "source": [
    "# Explore the data:\n",
    "# 1. Display the first few rows\n",
    "print(data_bank.head())\n"
   ]
  },
  {
   "cell_type": "code",
   "execution_count": 58,
   "id": "55d5378e",
   "metadata": {},
   "outputs": [
    {
     "name": "stdout",
     "output_type": "stream",
     "text": [
      "<class 'pandas.core.frame.DataFrame'>\n",
      "RangeIndex: 41188 entries, 0 to 41187\n",
      "Data columns (total 21 columns):\n",
      " #   Column          Non-Null Count  Dtype  \n",
      "---  ------          --------------  -----  \n",
      " 0   age             41188 non-null  int64  \n",
      " 1   job             41188 non-null  object \n",
      " 2   marital         41188 non-null  object \n",
      " 3   education       41188 non-null  object \n",
      " 4   default         41188 non-null  object \n",
      " 5   housing         41188 non-null  object \n",
      " 6   loan            41188 non-null  object \n",
      " 7   contact         41188 non-null  object \n",
      " 8   month           41188 non-null  object \n",
      " 9   day_of_week     41188 non-null  object \n",
      " 10  duration        41188 non-null  int64  \n",
      " 11  campaign        41188 non-null  int64  \n",
      " 12  pdays           41188 non-null  int64  \n",
      " 13  previous        41188 non-null  int64  \n",
      " 14  poutcome        41188 non-null  object \n",
      " 15  emp.var.rate    41188 non-null  float64\n",
      " 16  cons.price.idx  41188 non-null  float64\n",
      " 17  cons.conf.idx   41188 non-null  float64\n",
      " 18  euribor3m       41188 non-null  float64\n",
      " 19  nr.employed     41188 non-null  float64\n",
      " 20  y               41188 non-null  object \n",
      "dtypes: float64(5), int64(5), object(11)\n",
      "memory usage: 6.6+ MB\n"
     ]
    }
   ],
   "source": [
    "# 2. Get data type information\n",
    "data_bank.info()\n"
   ]
  },
  {
   "cell_type": "code",
   "execution_count": 59,
   "id": "d6bf825b",
   "metadata": {},
   "outputs": [
    {
     "data": {
      "application/vnd.microsoft.datawrangler.viewer.v0+json": {
       "columns": [
        {
         "name": "index",
         "rawType": "object",
         "type": "string"
        },
        {
         "name": "age",
         "rawType": "float64",
         "type": "float"
        },
        {
         "name": "job",
         "rawType": "object",
         "type": "unknown"
        },
        {
         "name": "marital",
         "rawType": "object",
         "type": "unknown"
        },
        {
         "name": "education",
         "rawType": "object",
         "type": "unknown"
        },
        {
         "name": "default",
         "rawType": "object",
         "type": "unknown"
        },
        {
         "name": "housing",
         "rawType": "object",
         "type": "unknown"
        },
        {
         "name": "loan",
         "rawType": "object",
         "type": "unknown"
        },
        {
         "name": "contact",
         "rawType": "object",
         "type": "unknown"
        },
        {
         "name": "month",
         "rawType": "object",
         "type": "unknown"
        },
        {
         "name": "day_of_week",
         "rawType": "object",
         "type": "unknown"
        },
        {
         "name": "duration",
         "rawType": "float64",
         "type": "float"
        },
        {
         "name": "campaign",
         "rawType": "float64",
         "type": "float"
        },
        {
         "name": "pdays",
         "rawType": "float64",
         "type": "float"
        },
        {
         "name": "previous",
         "rawType": "float64",
         "type": "float"
        },
        {
         "name": "poutcome",
         "rawType": "object",
         "type": "unknown"
        },
        {
         "name": "emp.var.rate",
         "rawType": "float64",
         "type": "float"
        },
        {
         "name": "cons.price.idx",
         "rawType": "float64",
         "type": "float"
        },
        {
         "name": "cons.conf.idx",
         "rawType": "float64",
         "type": "float"
        },
        {
         "name": "euribor3m",
         "rawType": "float64",
         "type": "float"
        },
        {
         "name": "nr.employed",
         "rawType": "float64",
         "type": "float"
        },
        {
         "name": "y",
         "rawType": "object",
         "type": "unknown"
        }
       ],
       "conversionMethod": "pd.DataFrame",
       "ref": "f52f6976-7b26-41f5-8706-7a16e65150a6",
       "rows": [
        [
         "count",
         "41188.0",
         "41188",
         "41188",
         "41188",
         "41188",
         "41188",
         "41188",
         "41188",
         "41188",
         "41188",
         "41188.0",
         "41188.0",
         "41188.0",
         "41188.0",
         "41188",
         "41188.0",
         "41188.0",
         "41188.0",
         "41188.0",
         "41188.0",
         "41188"
        ],
        [
         "unique",
         null,
         "12",
         "4",
         "8",
         "3",
         "3",
         "3",
         "2",
         "10",
         "5",
         null,
         null,
         null,
         null,
         "3",
         null,
         null,
         null,
         null,
         null,
         "2"
        ],
        [
         "top",
         null,
         "admin.",
         "married",
         "university.degree",
         "no",
         "yes",
         "no",
         "cellular",
         "may",
         "thu",
         null,
         null,
         null,
         null,
         "nonexistent",
         null,
         null,
         null,
         null,
         null,
         "no"
        ],
        [
         "freq",
         null,
         "10422",
         "24928",
         "12168",
         "32588",
         "21576",
         "33950",
         "26144",
         "13769",
         "8623",
         null,
         null,
         null,
         null,
         "35563",
         null,
         null,
         null,
         null,
         null,
         "36548"
        ],
        [
         "mean",
         "40.02406040594348",
         null,
         null,
         null,
         null,
         null,
         null,
         null,
         null,
         null,
         "258.2850101971448",
         "2.567592502670681",
         "962.4754540157328",
         "0.17296299893172767",
         null,
         "0.08188550063125165",
         "93.57566436826262",
         "-40.50260027192386",
         "3.621290812858114",
         "5167.035910944936",
         null
        ],
        [
         "std",
         "10.421249980934235",
         null,
         null,
         null,
         null,
         null,
         null,
         null,
         null,
         null,
         "259.2792488364648",
         "2.7700135429021127",
         "186.9109073447436",
         "0.4949010798393183",
         null,
         "1.5709597405172309",
         "0.5788400489541813",
         "4.628197856174375",
         "1.7344474048511707",
         "72.25152766826527",
         null
        ],
        [
         "min",
         "17.0",
         null,
         null,
         null,
         null,
         null,
         null,
         null,
         null,
         null,
         "0.0",
         "1.0",
         "0.0",
         "0.0",
         null,
         "-3.4",
         "92.201",
         "-50.8",
         "0.634",
         "4963.6",
         null
        ],
        [
         "25%",
         "32.0",
         null,
         null,
         null,
         null,
         null,
         null,
         null,
         null,
         null,
         "102.0",
         "1.0",
         "999.0",
         "0.0",
         null,
         "-1.8",
         "93.075",
         "-42.7",
         "1.344",
         "5099.1",
         null
        ],
        [
         "50%",
         "38.0",
         null,
         null,
         null,
         null,
         null,
         null,
         null,
         null,
         null,
         "180.0",
         "2.0",
         "999.0",
         "0.0",
         null,
         "1.1",
         "93.749",
         "-41.8",
         "4.857",
         "5191.0",
         null
        ],
        [
         "75%",
         "47.0",
         null,
         null,
         null,
         null,
         null,
         null,
         null,
         null,
         null,
         "319.0",
         "3.0",
         "999.0",
         "0.0",
         null,
         "1.4",
         "93.994",
         "-36.4",
         "4.961",
         "5228.1",
         null
        ],
        [
         "max",
         "98.0",
         null,
         null,
         null,
         null,
         null,
         null,
         null,
         null,
         null,
         "4918.0",
         "56.0",
         "999.0",
         "7.0",
         null,
         "1.4",
         "94.767",
         "-26.9",
         "5.045",
         "5228.1",
         null
        ]
       ],
       "shape": {
        "columns": 21,
        "rows": 11
       }
      },
      "text/html": [
       "<div>\n",
       "<style scoped>\n",
       "    .dataframe tbody tr th:only-of-type {\n",
       "        vertical-align: middle;\n",
       "    }\n",
       "\n",
       "    .dataframe tbody tr th {\n",
       "        vertical-align: top;\n",
       "    }\n",
       "\n",
       "    .dataframe thead th {\n",
       "        text-align: right;\n",
       "    }\n",
       "</style>\n",
       "<table border=\"1\" class=\"dataframe\">\n",
       "  <thead>\n",
       "    <tr style=\"text-align: right;\">\n",
       "      <th></th>\n",
       "      <th>age</th>\n",
       "      <th>job</th>\n",
       "      <th>marital</th>\n",
       "      <th>education</th>\n",
       "      <th>default</th>\n",
       "      <th>housing</th>\n",
       "      <th>loan</th>\n",
       "      <th>contact</th>\n",
       "      <th>month</th>\n",
       "      <th>day_of_week</th>\n",
       "      <th>...</th>\n",
       "      <th>campaign</th>\n",
       "      <th>pdays</th>\n",
       "      <th>previous</th>\n",
       "      <th>poutcome</th>\n",
       "      <th>emp.var.rate</th>\n",
       "      <th>cons.price.idx</th>\n",
       "      <th>cons.conf.idx</th>\n",
       "      <th>euribor3m</th>\n",
       "      <th>nr.employed</th>\n",
       "      <th>y</th>\n",
       "    </tr>\n",
       "  </thead>\n",
       "  <tbody>\n",
       "    <tr>\n",
       "      <th>count</th>\n",
       "      <td>41188.00000</td>\n",
       "      <td>41188</td>\n",
       "      <td>41188</td>\n",
       "      <td>41188</td>\n",
       "      <td>41188</td>\n",
       "      <td>41188</td>\n",
       "      <td>41188</td>\n",
       "      <td>41188</td>\n",
       "      <td>41188</td>\n",
       "      <td>41188</td>\n",
       "      <td>...</td>\n",
       "      <td>41188.000000</td>\n",
       "      <td>41188.000000</td>\n",
       "      <td>41188.000000</td>\n",
       "      <td>41188</td>\n",
       "      <td>41188.000000</td>\n",
       "      <td>41188.000000</td>\n",
       "      <td>41188.000000</td>\n",
       "      <td>41188.000000</td>\n",
       "      <td>41188.000000</td>\n",
       "      <td>41188</td>\n",
       "    </tr>\n",
       "    <tr>\n",
       "      <th>unique</th>\n",
       "      <td>NaN</td>\n",
       "      <td>12</td>\n",
       "      <td>4</td>\n",
       "      <td>8</td>\n",
       "      <td>3</td>\n",
       "      <td>3</td>\n",
       "      <td>3</td>\n",
       "      <td>2</td>\n",
       "      <td>10</td>\n",
       "      <td>5</td>\n",
       "      <td>...</td>\n",
       "      <td>NaN</td>\n",
       "      <td>NaN</td>\n",
       "      <td>NaN</td>\n",
       "      <td>3</td>\n",
       "      <td>NaN</td>\n",
       "      <td>NaN</td>\n",
       "      <td>NaN</td>\n",
       "      <td>NaN</td>\n",
       "      <td>NaN</td>\n",
       "      <td>2</td>\n",
       "    </tr>\n",
       "    <tr>\n",
       "      <th>top</th>\n",
       "      <td>NaN</td>\n",
       "      <td>admin.</td>\n",
       "      <td>married</td>\n",
       "      <td>university.degree</td>\n",
       "      <td>no</td>\n",
       "      <td>yes</td>\n",
       "      <td>no</td>\n",
       "      <td>cellular</td>\n",
       "      <td>may</td>\n",
       "      <td>thu</td>\n",
       "      <td>...</td>\n",
       "      <td>NaN</td>\n",
       "      <td>NaN</td>\n",
       "      <td>NaN</td>\n",
       "      <td>nonexistent</td>\n",
       "      <td>NaN</td>\n",
       "      <td>NaN</td>\n",
       "      <td>NaN</td>\n",
       "      <td>NaN</td>\n",
       "      <td>NaN</td>\n",
       "      <td>no</td>\n",
       "    </tr>\n",
       "    <tr>\n",
       "      <th>freq</th>\n",
       "      <td>NaN</td>\n",
       "      <td>10422</td>\n",
       "      <td>24928</td>\n",
       "      <td>12168</td>\n",
       "      <td>32588</td>\n",
       "      <td>21576</td>\n",
       "      <td>33950</td>\n",
       "      <td>26144</td>\n",
       "      <td>13769</td>\n",
       "      <td>8623</td>\n",
       "      <td>...</td>\n",
       "      <td>NaN</td>\n",
       "      <td>NaN</td>\n",
       "      <td>NaN</td>\n",
       "      <td>35563</td>\n",
       "      <td>NaN</td>\n",
       "      <td>NaN</td>\n",
       "      <td>NaN</td>\n",
       "      <td>NaN</td>\n",
       "      <td>NaN</td>\n",
       "      <td>36548</td>\n",
       "    </tr>\n",
       "    <tr>\n",
       "      <th>mean</th>\n",
       "      <td>40.02406</td>\n",
       "      <td>NaN</td>\n",
       "      <td>NaN</td>\n",
       "      <td>NaN</td>\n",
       "      <td>NaN</td>\n",
       "      <td>NaN</td>\n",
       "      <td>NaN</td>\n",
       "      <td>NaN</td>\n",
       "      <td>NaN</td>\n",
       "      <td>NaN</td>\n",
       "      <td>...</td>\n",
       "      <td>2.567593</td>\n",
       "      <td>962.475454</td>\n",
       "      <td>0.172963</td>\n",
       "      <td>NaN</td>\n",
       "      <td>0.081886</td>\n",
       "      <td>93.575664</td>\n",
       "      <td>-40.502600</td>\n",
       "      <td>3.621291</td>\n",
       "      <td>5167.035911</td>\n",
       "      <td>NaN</td>\n",
       "    </tr>\n",
       "    <tr>\n",
       "      <th>std</th>\n",
       "      <td>10.42125</td>\n",
       "      <td>NaN</td>\n",
       "      <td>NaN</td>\n",
       "      <td>NaN</td>\n",
       "      <td>NaN</td>\n",
       "      <td>NaN</td>\n",
       "      <td>NaN</td>\n",
       "      <td>NaN</td>\n",
       "      <td>NaN</td>\n",
       "      <td>NaN</td>\n",
       "      <td>...</td>\n",
       "      <td>2.770014</td>\n",
       "      <td>186.910907</td>\n",
       "      <td>0.494901</td>\n",
       "      <td>NaN</td>\n",
       "      <td>1.570960</td>\n",
       "      <td>0.578840</td>\n",
       "      <td>4.628198</td>\n",
       "      <td>1.734447</td>\n",
       "      <td>72.251528</td>\n",
       "      <td>NaN</td>\n",
       "    </tr>\n",
       "    <tr>\n",
       "      <th>min</th>\n",
       "      <td>17.00000</td>\n",
       "      <td>NaN</td>\n",
       "      <td>NaN</td>\n",
       "      <td>NaN</td>\n",
       "      <td>NaN</td>\n",
       "      <td>NaN</td>\n",
       "      <td>NaN</td>\n",
       "      <td>NaN</td>\n",
       "      <td>NaN</td>\n",
       "      <td>NaN</td>\n",
       "      <td>...</td>\n",
       "      <td>1.000000</td>\n",
       "      <td>0.000000</td>\n",
       "      <td>0.000000</td>\n",
       "      <td>NaN</td>\n",
       "      <td>-3.400000</td>\n",
       "      <td>92.201000</td>\n",
       "      <td>-50.800000</td>\n",
       "      <td>0.634000</td>\n",
       "      <td>4963.600000</td>\n",
       "      <td>NaN</td>\n",
       "    </tr>\n",
       "    <tr>\n",
       "      <th>25%</th>\n",
       "      <td>32.00000</td>\n",
       "      <td>NaN</td>\n",
       "      <td>NaN</td>\n",
       "      <td>NaN</td>\n",
       "      <td>NaN</td>\n",
       "      <td>NaN</td>\n",
       "      <td>NaN</td>\n",
       "      <td>NaN</td>\n",
       "      <td>NaN</td>\n",
       "      <td>NaN</td>\n",
       "      <td>...</td>\n",
       "      <td>1.000000</td>\n",
       "      <td>999.000000</td>\n",
       "      <td>0.000000</td>\n",
       "      <td>NaN</td>\n",
       "      <td>-1.800000</td>\n",
       "      <td>93.075000</td>\n",
       "      <td>-42.700000</td>\n",
       "      <td>1.344000</td>\n",
       "      <td>5099.100000</td>\n",
       "      <td>NaN</td>\n",
       "    </tr>\n",
       "    <tr>\n",
       "      <th>50%</th>\n",
       "      <td>38.00000</td>\n",
       "      <td>NaN</td>\n",
       "      <td>NaN</td>\n",
       "      <td>NaN</td>\n",
       "      <td>NaN</td>\n",
       "      <td>NaN</td>\n",
       "      <td>NaN</td>\n",
       "      <td>NaN</td>\n",
       "      <td>NaN</td>\n",
       "      <td>NaN</td>\n",
       "      <td>...</td>\n",
       "      <td>2.000000</td>\n",
       "      <td>999.000000</td>\n",
       "      <td>0.000000</td>\n",
       "      <td>NaN</td>\n",
       "      <td>1.100000</td>\n",
       "      <td>93.749000</td>\n",
       "      <td>-41.800000</td>\n",
       "      <td>4.857000</td>\n",
       "      <td>5191.000000</td>\n",
       "      <td>NaN</td>\n",
       "    </tr>\n",
       "    <tr>\n",
       "      <th>75%</th>\n",
       "      <td>47.00000</td>\n",
       "      <td>NaN</td>\n",
       "      <td>NaN</td>\n",
       "      <td>NaN</td>\n",
       "      <td>NaN</td>\n",
       "      <td>NaN</td>\n",
       "      <td>NaN</td>\n",
       "      <td>NaN</td>\n",
       "      <td>NaN</td>\n",
       "      <td>NaN</td>\n",
       "      <td>...</td>\n",
       "      <td>3.000000</td>\n",
       "      <td>999.000000</td>\n",
       "      <td>0.000000</td>\n",
       "      <td>NaN</td>\n",
       "      <td>1.400000</td>\n",
       "      <td>93.994000</td>\n",
       "      <td>-36.400000</td>\n",
       "      <td>4.961000</td>\n",
       "      <td>5228.100000</td>\n",
       "      <td>NaN</td>\n",
       "    </tr>\n",
       "    <tr>\n",
       "      <th>max</th>\n",
       "      <td>98.00000</td>\n",
       "      <td>NaN</td>\n",
       "      <td>NaN</td>\n",
       "      <td>NaN</td>\n",
       "      <td>NaN</td>\n",
       "      <td>NaN</td>\n",
       "      <td>NaN</td>\n",
       "      <td>NaN</td>\n",
       "      <td>NaN</td>\n",
       "      <td>NaN</td>\n",
       "      <td>...</td>\n",
       "      <td>56.000000</td>\n",
       "      <td>999.000000</td>\n",
       "      <td>7.000000</td>\n",
       "      <td>NaN</td>\n",
       "      <td>1.400000</td>\n",
       "      <td>94.767000</td>\n",
       "      <td>-26.900000</td>\n",
       "      <td>5.045000</td>\n",
       "      <td>5228.100000</td>\n",
       "      <td>NaN</td>\n",
       "    </tr>\n",
       "  </tbody>\n",
       "</table>\n",
       "<p>11 rows × 21 columns</p>\n",
       "</div>"
      ],
      "text/plain": [
       "                age     job  marital          education default housing  \\\n",
       "count   41188.00000   41188    41188              41188   41188   41188   \n",
       "unique          NaN      12        4                  8       3       3   \n",
       "top             NaN  admin.  married  university.degree      no     yes   \n",
       "freq            NaN   10422    24928              12168   32588   21576   \n",
       "mean       40.02406     NaN      NaN                NaN     NaN     NaN   \n",
       "std        10.42125     NaN      NaN                NaN     NaN     NaN   \n",
       "min        17.00000     NaN      NaN                NaN     NaN     NaN   \n",
       "25%        32.00000     NaN      NaN                NaN     NaN     NaN   \n",
       "50%        38.00000     NaN      NaN                NaN     NaN     NaN   \n",
       "75%        47.00000     NaN      NaN                NaN     NaN     NaN   \n",
       "max        98.00000     NaN      NaN                NaN     NaN     NaN   \n",
       "\n",
       "         loan   contact  month day_of_week  ...      campaign         pdays  \\\n",
       "count   41188     41188  41188       41188  ...  41188.000000  41188.000000   \n",
       "unique      3         2     10           5  ...           NaN           NaN   \n",
       "top        no  cellular    may         thu  ...           NaN           NaN   \n",
       "freq    33950     26144  13769        8623  ...           NaN           NaN   \n",
       "mean      NaN       NaN    NaN         NaN  ...      2.567593    962.475454   \n",
       "std       NaN       NaN    NaN         NaN  ...      2.770014    186.910907   \n",
       "min       NaN       NaN    NaN         NaN  ...      1.000000      0.000000   \n",
       "25%       NaN       NaN    NaN         NaN  ...      1.000000    999.000000   \n",
       "50%       NaN       NaN    NaN         NaN  ...      2.000000    999.000000   \n",
       "75%       NaN       NaN    NaN         NaN  ...      3.000000    999.000000   \n",
       "max       NaN       NaN    NaN         NaN  ...     56.000000    999.000000   \n",
       "\n",
       "            previous     poutcome  emp.var.rate  cons.price.idx  \\\n",
       "count   41188.000000        41188  41188.000000    41188.000000   \n",
       "unique           NaN            3           NaN             NaN   \n",
       "top              NaN  nonexistent           NaN             NaN   \n",
       "freq             NaN        35563           NaN             NaN   \n",
       "mean        0.172963          NaN      0.081886       93.575664   \n",
       "std         0.494901          NaN      1.570960        0.578840   \n",
       "min         0.000000          NaN     -3.400000       92.201000   \n",
       "25%         0.000000          NaN     -1.800000       93.075000   \n",
       "50%         0.000000          NaN      1.100000       93.749000   \n",
       "75%         0.000000          NaN      1.400000       93.994000   \n",
       "max         7.000000          NaN      1.400000       94.767000   \n",
       "\n",
       "        cons.conf.idx     euribor3m   nr.employed      y  \n",
       "count    41188.000000  41188.000000  41188.000000  41188  \n",
       "unique            NaN           NaN           NaN      2  \n",
       "top               NaN           NaN           NaN     no  \n",
       "freq              NaN           NaN           NaN  36548  \n",
       "mean       -40.502600      3.621291   5167.035911    NaN  \n",
       "std          4.628198      1.734447     72.251528    NaN  \n",
       "min        -50.800000      0.634000   4963.600000    NaN  \n",
       "25%        -42.700000      1.344000   5099.100000    NaN  \n",
       "50%        -41.800000      4.857000   5191.000000    NaN  \n",
       "75%        -36.400000      4.961000   5228.100000    NaN  \n",
       "max        -26.900000      5.045000   5228.100000    NaN  \n",
       "\n",
       "[11 rows x 21 columns]"
      ]
     },
     "execution_count": 59,
     "metadata": {},
     "output_type": "execute_result"
    }
   ],
   "source": [
    "# 3. Get summary statistics\n",
    "data_bank.describe(include='all')"
   ]
  },
  {
   "cell_type": "code",
   "execution_count": 60,
   "id": "7ac4ac5d",
   "metadata": {},
   "outputs": [
    {
     "name": "stdout",
     "output_type": "stream",
     "text": [
      "age               0\n",
      "job               0\n",
      "marital           0\n",
      "education         0\n",
      "default           0\n",
      "housing           0\n",
      "loan              0\n",
      "contact           0\n",
      "month             0\n",
      "day_of_week       0\n",
      "duration          0\n",
      "campaign          0\n",
      "pdays             0\n",
      "previous          0\n",
      "poutcome          0\n",
      "emp.var.rate      0\n",
      "cons.price.idx    0\n",
      "cons.conf.idx     0\n",
      "euribor3m         0\n",
      "nr.employed       0\n",
      "y                 0\n",
      "dtype: int64\n"
     ]
    }
   ],
   "source": [
    "#check for missing values\n",
    "print(data_bank.isnull().sum())"
   ]
  },
  {
   "cell_type": "markdown",
   "id": "39eff9da",
   "metadata": {},
   "source": [
    "No missing values found"
   ]
  },
  {
   "cell_type": "code",
   "execution_count": 61,
   "id": "6fa9eeec",
   "metadata": {},
   "outputs": [
    {
     "name": "stdout",
     "output_type": "stream",
     "text": [
      "Index(['job', 'marital', 'education', 'default', 'housing', 'loan', 'contact',\n",
      "       'month', 'day_of_week', 'poutcome', 'y'],\n",
      "      dtype='object')\n"
     ]
    }
   ],
   "source": [
    "#specify categorical columns\n",
    "cat_cols = data_bank.select_dtypes(include=['object']).columns\n",
    "print(cat_cols)"
   ]
  },
  {
   "cell_type": "code",
   "execution_count": 62,
   "id": "a93083eb",
   "metadata": {},
   "outputs": [
    {
     "name": "stdout",
     "output_type": "stream",
     "text": [
      "Number of 'unknown' values per categorical feature:\n",
      "\n",
      "job: 330\n",
      "marital: 80\n",
      "education: 1731\n",
      "default: 8597\n",
      "housing: 990\n",
      "loan: 990\n"
     ]
    }
   ],
   "source": [
    "#count and show  'unknown' values\n",
    "print(\"Number of 'unknown' values per categorical feature:\\n\")\n",
    "for col in cat_cols:\n",
    "    count = (data_bank[col] == 'unknown').sum()\n",
    "    if count > 0:\n",
    "        print(f\"{col}: {count}\")"
   ]
  },
  {
   "cell_type": "markdown",
   "id": "1529c84f",
   "metadata": {},
   "source": [
    "no unknown values"
   ]
  },
  {
   "cell_type": "code",
   "execution_count": 63,
   "id": "d82fba9a",
   "metadata": {},
   "outputs": [
    {
     "name": "stdout",
     "output_type": "stream",
     "text": [
      "Features training set shape: (32950, 20)\n",
      "Features testing test shape: (8238, 20)\n",
      "Target trainign set shape: (32950,)\n",
      "Target testing set shape: (8238,)\n"
     ]
    }
   ],
   "source": [
    "#separate target variable from features\n",
    "X = data_bank.drop(columns=['y'])\n",
    "y = data_bank['y']\n",
    "\n",
    "# Split data into training and testing sets\n",
    "X_train, X_test, y_train, y_test = train_test_split(X, y, test_size=0.2, random_state=42)\n",
    "\n",
    "# Check the shape of the training and testing sets\n",
    "print(f\"Features training set shape: {X_train.shape}\")\n",
    "print(f\"Features testing test shape: {X_test.shape}\")\n",
    "print(f\"Target trainign set shape: {y_train.shape}\")\n",
    "print(f\"Target testing set shape: {y_test.shape}\")\n"
   ]
  },
  {
   "cell_type": "code",
   "execution_count": 64,
   "id": "dc822436",
   "metadata": {},
   "outputs": [],
   "source": [
    "# Handle missing values (e.g., replace missing values with the mean of the column)\n",
    "num_cols = X_train.select_dtypes(include=['int64','float64']).columns\n",
    "\n",
    "X_train[num_cols] = X_train[num_cols].fillna(X_train[num_cols].mean())\n",
    "X_test[num_cols] = X_test[num_cols].fillna(X_train[num_cols].mean())\n",
    "\n",
    "\n",
    "\n"
   ]
  },
  {
   "cell_type": "markdown",
   "id": "d3ad5e06",
   "metadata": {},
   "source": [
    "### Step: Handling Missing Values\n",
    "\n",
    "All numerical columns were identified in the training set using their data types. \n",
    "Missing values filled in `X_train` using mean of each numerical column.\n",
    "Same imputation applied to `X_test.  \n"
   ]
  },
  {
   "cell_type": "code",
   "execution_count": 65,
   "id": "9acb264b",
   "metadata": {},
   "outputs": [
    {
     "name": "stdout",
     "output_type": "stream",
     "text": [
      "Encoded features training set shape: (32950, 53)\n",
      "Encoded features testing set shape: (8238, 53)\n"
     ]
    }
   ],
   "source": [
    "# Encoding categorical features (e.g., one-hot encoding)\n",
    "X_train_encoded = pd.get_dummies(X_train, drop_first = True)\n",
    "X_test_encoded = pd.get_dummies(X_test, drop_first= True)\n",
    "\n",
    "# Align the training and testing sets to ensure they have the same columns\n",
    "X_test_encoded = X_test_encoded.reindex(columns= X_train_encoded.columns, fill_value=0)\n",
    "\n",
    "# Check the shape of the encoded training and testing sets\n",
    "print(f\"Encoded features training set shape: {X_train_encoded.shape}\")\n",
    "print(f\"Encoded features testing set shape: {X_test_encoded.shape}\")\n"
   ]
  },
  {
   "cell_type": "markdown",
   "id": "5192ea7d",
   "metadata": {},
   "source": [
    "### Step: Encoding Categorical Features\n",
    "\n",
    "-One-hot encoding was applied using pd.get_dummies() from pandas.\n",
    "-Encoding was applied separately to X_train and X_test.\n",
    "-drop_first=True to avoid multicollinearity by removing the first category of each feature.\n",
    "-reindex() on X_test to align its columns with X_train, filling any missing columns with 0.\n",
    "\n"
   ]
  },
  {
   "cell_type": "code",
   "execution_count": 66,
   "id": "829d542f",
   "metadata": {},
   "outputs": [
    {
     "name": "stdout",
     "output_type": "stream",
     "text": [
      "First few rows of the scaled numerical features in the training set:\n",
      "            age  duration  campaign     pdays  previous  emp.var.rate  \\\n",
      "12556 -0.001669 -0.631114 -0.206242  0.194661 -0.350902      0.838794   \n",
      "35451 -0.864095 -0.546321  0.513676  0.194661 -0.350902     -1.199440   \n",
      "30592  1.819007 -0.943306  1.233593  0.194661  1.677559     -1.199440   \n",
      "17914  0.285806 -0.631114  0.873635  0.194661 -0.350902      0.838794   \n",
      "3315  -0.097494  0.332441 -0.206242  0.194661 -0.350902      0.647709   \n",
      "\n",
      "       cons.price.idx  cons.conf.idx  euribor3m  nr.employed  \n",
      "12556        0.589080      -0.472769   0.771354     0.843165  \n",
      "35451       -1.180760      -1.229916  -1.372028    -0.939748  \n",
      "30592       -1.180760      -1.229916  -1.308581    -0.939748  \n",
      "17914        0.589080      -0.472769   0.771930     0.843165  \n",
      "3315         0.720307       0.890097   0.713674     0.330405  \n",
      "First few rows of the scaled numerical features in the testing set:\n"
     ]
    }
   ],
   "source": [
    "# Data Scaling (normalize numerical features)\n",
    "\n",
    "\n",
    "#indetify numerical columns in the encoded data\n",
    "num_cols_encoded = X_train_encoded.select_dtypes(include=['int64','float64']).columns\n",
    "\n",
    "#Initialize the scaler\n",
    "scaler =StandardScaler()\n",
    "\n",
    "#Fit the scaler on the training data and transform both tarin and test datasets\n",
    "X_train_encoded[num_cols] = scaler.fit_transform(X_train_encoded[num_cols_encoded])\n",
    "X_test_encoded[num_cols] = scaler.transform(X_test_encoded[num_cols_encoded])\n",
    "\n",
    "# Check the first few rows of the scaled training set\n",
    "print(\"First few rows of the scaled numerical features in the training set:\")\n",
    "print(X_train_encoded[num_cols_encoded].head())\n",
    "# Check the first few rows of the scaled testing set\n",
    "print(\"First few rows of the scaled numerical features in the testing set:\")"
   ]
  },
  {
   "cell_type": "code",
   "execution_count": 67,
   "id": "43afb1cf",
   "metadata": {},
   "outputs": [
    {
     "data": {
      "text/plain": [
       "<Figure size 1600x1200 with 0 Axes>"
      ]
     },
     "metadata": {},
     "output_type": "display_data"
    },
    {
     "data": {
      "image/png": "[encoded data removed]",
      "text/plain": [
       "<Figure size 1600x1200 with 12 Axes>"
      ]
     },
     "metadata": {},
     "output_type": "display_data"
    }
   ],
   "source": [
    "# Data Visualization (e.g., histograms, box plots, and correlation matrices)\n",
    "\n",
    "numeric_scaled = X_train_encoded[num_cols_encoded]\n",
    "\n",
    "#histogram of the scaled numerical features\n",
    "plt.figure(figsize=(16,12))\n",
    "numeric_scaled.hist(bins=30, edgecolor='black', layout=(4,3), figsize=(16,12))\n",
    "plt.suptitle('Histograms of Scaled Numerical Features (Train Set)', fontsize=16)\n",
    "plt.tight_layout(rect = [0, 0, 1, 0.96])\n",
    "plt.show()"
   ]
  },
  {
   "cell_type": "markdown",
   "id": "2d80ba11",
   "metadata": {},
   "source": [
    "## Observations\n",
    "\n",
    "- **age**: Right-skewed. Most clients are younger, while a few are much older (creating a tail on the right).\n",
    "- **duration**: Right-skewed. Most calls are short; only a few lasted much longer.\n",
    "- **campaign**: Right-skewed. Most clients were contacted 1–2 times; only a few were contacted 10+ times.\n",
    "- **previous**: Right-skewed. The majority of clients had no or very few previous contacts.\n",
    "\n",
    "\n",
    "\n"
   ]
  },
  {
   "cell_type": "code",
   "execution_count": null,
   "id": "fd6bd61d",
   "metadata": {},
   "outputs": [],
   "source": [
    "#boxplot of the scaled features\n",
    "plt.figure(figsize=(16,12))\n",
    "sns.boxplot(data=numeric_scaled, orient='h')\n",
    "plt.title('Boxplot of Scaled Features (Training Set)', fontsize=16)\n",
    "plt.xlabel('Scaled Value')\n",
    "plt.ylabel('Feature')\n",
    "plt.grid(True)\n",
    "plt.tight_layout()\n",
    "plt.show()"
   ]
  },
  {
   "cell_type": "markdown",
   "id": "532dc3cf",
   "metadata": {},
   "source": []
  },
  {
   "cell_type": "code",
   "execution_count": 68,
   "id": "e332fdea",
   "metadata": {},
   "outputs": [],
   "source": [
    "#points += 8"
   ]
  },
  {
   "cell_type": "markdown",
   "id": "77de05e5",
   "metadata": {},
   "source": [
    "### **Step 2: Training Three Classification Models** (8 points)\n",
    "\n",
    "\n",
    "**Model Selection:** Choose three classification algorithms: Logistic Regression, Decision Tree, and K-nearest neighborhood (KNN). (0.5 grade units)\n",
    "\n",
    "**Model Training:** ** Train each of the selected models on the training dataset. (4 points)\n",
    "\n",
    "**Model Evaluation:** Evaluate the performance of each model on the testing dataset using appropriate evaluation metrics (e.g., accuracy, precision, recall, F1-score, ROC-AUC). (4 points)"
   ]
  },
  {
   "cell_type": "code",
   "execution_count": 69,
   "id": "bbca4a58",
   "metadata": {},
   "outputs": [],
   "source": [
    "# Step 2: Training Three Classification Models\n"
   ]
  },
  {
   "cell_type": "code",
   "execution_count": 70,
   "id": "64feeb10",
   "metadata": {},
   "outputs": [],
   "source": [
    "#points += 8"
   ]
  },
  {
   "cell_type": "markdown",
   "id": "ade46085",
   "metadata": {},
   "source": [
    "### **Step 3: Model Tuning and Validation (Including ROC Curve Analysis and Model Selection Rationale)** (8 points)\n",
    "\n",
    "\n",
    "**Hyperparameter Tuning**: ** Perform hyperparameter tuning for each model to optimize their performance. You can use techniques like grid search or random search. (1 point)\n",
    "\n",
    "**Cross-Validation:** Implement k-fold cross-validation to ensure that the models generalize well to new data. (1 point)\n",
    "\n",
    "**ROC Curve Analysis:** For each model, calculate the ROC curve and the corresponding area under the ROC curve (AUC-ROC) as a performance metric. Plot the ROC curves for visual comparison. (1 point)\n",
    "\n",
    "**Threshold Selection:** Determine the optimal threshold for classification by considering the ROC curve and choosing the point that balances sensitivity and specificity based on the problem's context (1 point) \n",
    "\n",
    "**Final Model Selection:** Select the best-performing model based on the AUC-ROC, cross-validation results, and other relevant evaluation metrics (e.g., accuracy, precision, recall, F1-score). (1 point)\n",
    "\n",
    "**Model Testing:** ** Evaluate the selected model on a separate validation dataset (if available) or the testing dataset from Step 1. (1 point)\n",
    "\n",
    "**Rationale for Model Selection:** In this section, provide a written explanation for why you chose the final model for testing. Discuss the key factors that influenced your decision, such as the AUC-ROC performance, cross-validation results, and any specific characteristics of the problem. Explain how the selected model aligns with the goals of the project and its potential practical applications. This step encourages critical thinking and demonstrates your understanding of the machine learning workflow. (2 points)"
   ]
  },
  {
   "cell_type": "code",
   "execution_count": 71,
   "id": "d505580e",
   "metadata": {},
   "outputs": [],
   "source": [
    "# Model Tuning and Validation\n"
   ]
  },
  {
   "cell_type": "code",
   "execution_count": 72,
   "id": "1ff232c5",
   "metadata": {},
   "outputs": [],
   "source": [
    "# Perform ROC curve analysis and calculate AUC-ROC for each model\n"
   ]
  },
  {
   "cell_type": "code",
   "execution_count": 73,
   "id": "aacda6c3",
   "metadata": {},
   "outputs": [],
   "source": [
    "# Visualize ROC curves\n"
   ]
  },
  {
   "cell_type": "code",
   "execution_count": 74,
   "id": "fc0cafc7",
   "metadata": {},
   "outputs": [],
   "source": [
    "# Threshold Selection (You can manually select a threshold based on ROC analysis)\n"
   ]
  },
  {
   "cell_type": "code",
   "execution_count": 75,
   "id": "7d8c9e38",
   "metadata": {},
   "outputs": [],
   "source": [
    "# Final Model Selection (Select the best-performing model based on AUC-ROC)\n",
    "\n"
   ]
  },
  {
   "cell_type": "code",
   "execution_count": 76,
   "id": "0f960bbf",
   "metadata": {},
   "outputs": [],
   "source": [
    "# Model Testing (Evaluate the selected model on the testing dataset)\n"
   ]
  },
  {
   "cell_type": "code",
   "execution_count": 77,
   "id": "7f4fa80e",
   "metadata": {},
   "outputs": [],
   "source": [
    "# Rationale for Model Selection: \n",
    "# In this section, provide a written explanation for why you chose the final model for testing. Discuss the key factors that influenced your decision, such as the AUC-ROC performance, cross-validation results, and any specific characteristics of the problem. Explain how the selected model aligns with the goals of the project and its potential practical applications. This step encourages critical thinking and demonstrates your understanding of the machine learning workflow."
   ]
  },
  {
   "cell_type": "code",
   "execution_count": 78,
   "id": "8a19b0c2",
   "metadata": {},
   "outputs": [],
   "source": [
    "#grade += 8"
   ]
  },
  {
   "cell_type": "markdown",
   "id": "4846c896",
   "metadata": {},
   "source": [
    "### Additional Challenges (Optional):\n",
    "\n",
    "To make the project more challenging, you can introduce the following tasks and collect 5 extra points for the project:\n",
    "\n",
    "1. Implement an ensemble method (e.g., Neural Network or Random Forest) and compare its performance with the individual models.\n",
    "\n",
    "2. Deal with class imbalance in the target variable.\n",
    "\n",
    "3. Explore feature engineering to create new features that might improve model performance."
   ]
  },
  {
   "cell_type": "code",
   "execution_count": 79,
   "id": "04030a9d",
   "metadata": {},
   "outputs": [],
   "source": [
    "#grade += 5"
   ]
  },
  {
   "cell_type": "markdown",
   "id": "497f2800",
   "metadata": {},
   "source": [
    "### Good Luck!"
   ]
  },
  {
   "cell_type": "markdown",
   "id": "2571e77f",
   "metadata": {},
   "source": [
    "## Peer evaluation (5 points)\n",
    "Each team member can gain max 5 points based on peer review\n",
    "- Peer review is done separately in ITS"
   ]
  },
  {
   "cell_type": "code",
   "execution_count": null,
   "id": "6d44be1d",
   "metadata": {},
   "outputs": [],
   "source": []
  }
 ],
 "metadata": {
  "kernelspec": {
   "display_name": "base",
   "language": "python",
   "name": "python3"
  },
  "language_info": {
   "codemirror_mode": {
    "name": "ipython",
    "version": 3
   },
   "file_extension": ".py",
   "mimetype": "text/x-python",
   "name": "python",
   "nbconvert_exporter": "python",
   "pygments_lexer": "ipython3",
   "version": "3.12.7"
  }
 },
 "nbformat": 4,
 "nbformat_minor": 5
}
